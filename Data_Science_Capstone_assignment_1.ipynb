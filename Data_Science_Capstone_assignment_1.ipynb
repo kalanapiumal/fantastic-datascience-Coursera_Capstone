{
  "nbformat": 4,
  "nbformat_minor": 0,
  "metadata": {
    "colab": {
      "name": "Data Science Capstone assignment 1.ipynb",
      "provenance": [],
      "authorship_tag": "ABX9TyNLRUgBKw+wLM9UKoz55OuW"
    },
    "kernelspec": {
      "name": "python3",
      "display_name": "Python 3"
    }
  },
  "cells": [
    {
      "cell_type": "markdown",
      "metadata": {
        "id": "3c6nWjSgxKTj",
        "colab_type": "text"
      },
      "source": [
        "# This notebook was created as a requirement of the Applied Data Science Capstone peer graded **assignment**"
      ]
    },
    {
      "cell_type": "markdown",
      "metadata": {
        "id": "y76I5PnAxbbL",
        "colab_type": "text"
      },
      "source": [
        "\n",
        "### ***Import the required libraries***"
      ]
    },
    {
      "cell_type": "code",
      "metadata": {
        "id": "WCg79OLuxl9j",
        "colab_type": "code",
        "colab": {}
      },
      "source": [
        "import pandas as pd\n",
        "import numpy as np\n"
      ],
      "execution_count": 0,
      "outputs": []
    },
    {
      "cell_type": "markdown",
      "metadata": {
        "id": "TMbR4_NFxxxX",
        "colab_type": "text"
      },
      "source": [
        "Print the following the statement: Hello Capstone Project Course"
      ]
    },
    {
      "cell_type": "code",
      "metadata": {
        "id": "w2eax6wfxvpG",
        "colab_type": "code",
        "colab": {
          "base_uri": "https://localhost:8080/",
          "height": 34
        },
        "outputId": "3e55df57-306e-4594-e698-5ee6f91015a3"
      },
      "source": [
        "print(\"Hello Capstone Project Course!\")"
      ],
      "execution_count": 2,
      "outputs": [
        {
          "output_type": "stream",
          "text": [
            "Hello Capstone Project Course!\n"
          ],
          "name": "stdout"
        }
      ]
    },
    {
      "cell_type": "code",
      "metadata": {
        "id": "sdldirkPx1oJ",
        "colab_type": "code",
        "colab": {}
      },
      "source": [
        ""
      ],
      "execution_count": 0,
      "outputs": []
    }
  ]
}